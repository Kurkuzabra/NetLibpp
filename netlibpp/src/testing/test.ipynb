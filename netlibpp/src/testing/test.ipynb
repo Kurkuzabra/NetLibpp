{
 "cells": [
  {
   "cell_type": "code",
   "execution_count": null,
   "metadata": {},
   "outputs": [],
   "source": [
    "%matplotlib inline\n",
    "import matplotlib.pyplot as plt\n",
    "\n",
    "from scipy.spatial.distance import pdist, squareform\n",
    "from scipy.spatial import distance_matrix\n",
    "from itertools import permutations, combinations\n",
    "from math import comb\n",
    "import numpy as np\n",
    "from timeit import default_timer as timer\n",
    "import sys\n",
    "sys.path.insert(0, '/home/kurk/curse/filtration/graph_func.cpython-312-x86_64-linux-gnu.so')\n",
    "\n",
    "import netlibpp_cpy as gf\n",
    "import importlib\n",
    "importlib.reload(gf)\n",
    "from timeit import default_timer as timer\n",
    "\n",
    "from sklearn.neighbors import radius_neighbors_graph\n",
    "import networkx as nx\n",
    "\n",
    "\n",
    "print(gf.__file__)\n",
    "print(gf.filtrate.__doc__)"
   ]
  },
  {
   "cell_type": "code",
   "execution_count": null,
   "metadata": {},
   "outputs": [],
   "source": [
    "X = np.array([\n",
    "    [0, 2.75], # 1\n",
    "    [2, 2], # 2\n",
    "    [3, 2.25], # 3\n",
    "    [4, 4], #4\n",
    "    [3.5, 0.75], #5\n",
    "    [2.5, -0.25], #6\n",
    "    [2.25, -2.25], #7\n",
    "    [2.5, -4], #8\n",
    "    [1, -3], #9\n",
    "    [-1, -2.75], #10\n",
    "    [-2.5, -1.0], #11\n",
    "    [-4, 0.5], #12\n",
    "    [-2, 1] #13\n",
    "])\n",
    "\n",
    "X = X + np.random.normal(0, 0.05, X.shape)\n",
    "X"
   ]
  },
  {
   "cell_type": "code",
   "execution_count": null,
   "metadata": {},
   "outputs": [],
   "source": [
    "A = radius_neighbors_graph(X, 4.25, mode='distance', include_self=False).toarray() #.astype(int)\n",
    "G = nx.from_numpy_array(A)\n",
    "A"
   ]
  },
  {
   "cell_type": "code",
   "execution_count": null,
   "metadata": {},
   "outputs": [],
   "source": [
    "_A = distance_matrix(X, X)\n",
    "dm = gf.get_VR_from_dist_matrix(_A, 0, 3)\n",
    "# dm.creat(A, 3)\n",
    "# dm.as_list()\n",
    "_A"
   ]
  },
  {
   "cell_type": "code",
   "execution_count": null,
   "metadata": {},
   "outputs": [],
   "source": [
    "def plot_core(G, K):\n",
    "\n",
    "    def stack(idx):\n",
    "        ret = np.empty((0, 2))\n",
    "        for _id in idx:\n",
    "            ret = np.vstack((ret, X[_id,:]))\n",
    "        return ret\n",
    "\n",
    "    max_dim_K = len(K)\n",
    "\n",
    "    plt.figure(figsize=(17,4))\n",
    "\n",
    "    plt.subplot(1, 4, 1)\n",
    "    plt.xlim((-5, 5))\n",
    "    plt.ylim((-5, 5))\n",
    "    plt.grid(linestyle=\"dotted\")\n",
    "    plt.title(\"Neighborhood graph$\")\n",
    "\n",
    "    # plot vertices\n",
    "    plt.scatter(X[:,0], X[:,1])\n",
    "\n",
    "    for i in range(len(X)):\n",
    "        plt.annotate(str(i), (X[i][0], X[i][1]))\n",
    "\n",
    "    # plot edges\n",
    "    for e in G.edges():\n",
    "        (start_id, end_id) = e\n",
    "        plt.plot([X[start_id,0], X[end_id,0]], [X[start_id,1], X[end_id,1]], 'c-', alpha=0.5)\n",
    "\n",
    "    plt.subplot(1, 4, 3)\n",
    "    plt.xlim((-5, 5))\n",
    "    plt.ylim((-5, 5))\n",
    "    plt.grid(linestyle=\"dotted\")\n",
    "    plt.title(\"Vietoris-Rips complex$\")\n",
    "\n",
    "    # plot vertices\n",
    "    plt.scatter(X[:,0], X[:,1])\n",
    "\n",
    "    # plot edges\n",
    "    for e in G.edges():\n",
    "        (start_id, end_id) = e\n",
    "        plt.plot([X[start_id,0], X[end_id,0]], [X[start_id,1], X[end_id,1]], 'c-', alpha=0.5)\n",
    "\n",
    "    # plot triangles\n",
    "    if max_dim_K >= 3:\n",
    "        for triangle in K[2]:\n",
    "            t = plt.Polygon(stack(triangle), color=\"blue\", alpha=0.15)\n",
    "            plt.gca().add_patch(t)\n",
    "\n",
    "    # plot tetrahedrons\n",
    "    if max_dim_K >= 4:\n",
    "        for tetra in K[3]:\n",
    "            tt = plt.Polygon(stack(tetra), color=\"red\", alpha=0.15)\n",
    "            plt.gca().add_patch(tt)\n",
    "\n",
    "    plt.show()"
   ]
  },
  {
   "cell_type": "code",
   "execution_count": null,
   "metadata": {},
   "outputs": [],
   "source": [
    "epsilons = list(np.sort(A[np.tril(A).nonzero()]))\n",
    "epsilons"
   ]
  },
  {
   "cell_type": "code",
   "execution_count": null,
   "metadata": {},
   "outputs": [],
   "source": [
    "_A = radius_neighbors_graph(X, epsilons[len(epsilons) - 1], mode='distance', include_self=False).toarray()\n",
    "__A = distance_matrix(X, X)\n",
    "__K = gf.get_VR_from_dist_matrix(__A, epsilons[len(epsilons) - 1], 4)\n",
    "_K =  __K.as_index_list()\n",
    "plot_core(nx.from_numpy_array(_A), _K)\n",
    "print(__K.filtration(2)[5].dim())\n",
    "__K.filtration(1)[5].get_volume()"
   ]
  },
  {
   "cell_type": "code",
   "execution_count": null,
   "metadata": {},
   "outputs": [],
   "source": [
    "__K = gf.get_Lp_from_coord_matrix(X, 4.23, 2, 4)\n",
    "__K.as_index_list()"
   ]
  },
  {
   "cell_type": "code",
   "execution_count": null,
   "metadata": {},
   "outputs": [],
   "source": [
    "point = gf.Point(np.array([0, 0]).astype(np.float64))\n",
    "pr = __K.projection(point)\n",
    "for i in pr:\n",
    "    print(i.coords())"
   ]
  },
  {
   "cell_type": "code",
   "execution_count": null,
   "metadata": {},
   "outputs": [],
   "source": [
    "l = __K.as_list()\n",
    "__K.simplex_from_indexes(l[2][0]).get_volume()\n",
    "print(__K.boundary_matrix(1).shape, __K.boundary_matrix(2).shape)\n",
    "__K.laplace_matrix(1)"
   ]
  },
  {
   "cell_type": "code",
   "execution_count": null,
   "metadata": {},
   "outputs": [],
   "source": [
    "__K = 0\n",
    "\n",
    "ttt = np.array([[0, 0], [2, 0], [1, 3 ** 0.5], [1, 3 ** 0.5 + 1]])\n",
    "\n",
    "min_dist = 2.85\n",
    "\n",
    "__K = gf.get_Lp_from_coord_matrix(ttt, min_dist, 2, 4)\n",
    "__V = gf.get_VR_from_coord_matrix(ttt, min_dist, 4)\n",
    "print(__K.as_index_list())\n",
    "print(__V.as_index_list())"
   ]
  },
  {
   "cell_type": "code",
   "execution_count": null,
   "metadata": {},
   "outputs": [],
   "source": [
    "__K = 0\n",
    "\n",
    "for epsilon in epsilons:\n",
    "    _A = radius_neighbors_graph(X, epsilon, mode='distance', include_self=False).toarray() #.astype(int)\n",
    "\n",
    "    _G = nx.from_numpy_array(_A)\n",
    "\n",
    "    _M = _A.copy()\n",
    "    np.fill_diagonal(_M, 1)\n",
    "\n",
    "    print(_G)\n",
    "    _A = _A.astype(np.float32)\n",
    "    __K = gf.get_VR_from_coord_matrix(X, epsilon, 4)\n",
    "    _K =  __K.as_index_list()\n",
    "    # plot_core(_G, _K)"
   ]
  },
  {
   "cell_type": "code",
   "execution_count": null,
   "metadata": {},
   "outputs": [],
   "source": [
    "__K = 0\n",
    "\n",
    "for epsilon in epsilons:\n",
    "    _A = radius_neighbors_graph(X, epsilon, mode='distance', include_self=False).toarray() #.astype(int)\n",
    "\n",
    "    _G = nx.from_numpy_array(_A)\n",
    "\n",
    "    print(_G)\n",
    "    __K = gf.get_Lp_from_coord_matrix(X, epsilon, 2, 4)\n",
    "    _K =  __K.as_index_list()\n",
    "    # plot_core(_G, _K)"
   ]
  },
  {
   "cell_type": "code",
   "execution_count": null,
   "metadata": {},
   "outputs": [],
   "source": []
  }
 ],
 "metadata": {
  "kernelspec": {
   "display_name": "Python 3",
   "language": "python",
   "name": "python3"
  },
  "language_info": {
   "codemirror_mode": {
    "name": "ipython",
    "version": 3
   },
   "file_extension": ".py",
   "mimetype": "text/x-python",
   "name": "python",
   "nbconvert_exporter": "python",
   "pygments_lexer": "ipython3",
   "version": "3.12.7"
  }
 },
 "nbformat": 4,
 "nbformat_minor": 2
}
