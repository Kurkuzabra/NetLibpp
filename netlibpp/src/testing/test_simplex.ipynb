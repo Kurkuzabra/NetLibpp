{
 "cells": [
  {
   "cell_type": "code",
   "execution_count": 1,
   "metadata": {},
   "outputs": [
    {
     "name": "stdout",
     "output_type": "stream",
     "text": [
      "hi\n"
     ]
    }
   ],
   "source": [
    "%matplotlib inline\n",
    "import matplotlib.pyplot as plt\n",
    "\n",
    "from scipy.spatial.distance import pdist, squareform\n",
    "from itertools import permutations, combinations\n",
    "from math import comb\n",
    "import numpy as np\n",
    "from timeit import default_timer as timer\n",
    "import sys\n",
    "sys.path.insert(0, '/home/kurk/curse/filtration/graph_func.cpython-312-x86_64-linux-gnu.so')\n",
    "\n",
    "import netlibpp as gf\n",
    "from timeit import default_timer as timer\n",
    "\n",
    "from sklearn.neighbors import radius_neighbors_graph\n",
    "import networkx as nx"
   ]
  },
  {
   "cell_type": "code",
   "execution_count": 2,
   "metadata": {},
   "outputs": [
    {
     "name": "stdout",
     "output_type": "stream",
     "text": [
      "[[-2. -1.]\n",
      " [ 0. -4.]] (2, 2) float64\n"
     ]
    }
   ],
   "source": [
    "sm = np.array([[-2, -1], [0, -4]]).astype(np.float64)\n",
    "print(sm, sm.shape, sm.dtype)"
   ]
  },
  {
   "cell_type": "code",
   "execution_count": 3,
   "metadata": {},
   "outputs": [
    {
     "name": "stdout",
     "output_type": "stream",
     "text": [
      "<class 'netlibpp_cpy.Simplex_hg::Point<double>doublehg::PointsType::POINT'> 1 3.605551275463989\n"
     ]
    }
   ],
   "source": [
    "simplex = gf.Simplex(sm)\n",
    "print(type(simplex), simplex.dim(), simplex.get_volume())"
   ]
  },
  {
   "cell_type": "code",
   "execution_count": 4,
   "metadata": {},
   "outputs": [
    {
     "data": {
      "text/plain": [
       "0.5753488372093023"
      ]
     },
     "execution_count": 4,
     "metadata": {},
     "output_type": "execute_result"
    }
   ],
   "source": [
    "gf.Simplex(np.array([[0, 0], [1, 0], [0.5, 0.86]]).astype(np.float64)).get_circumradius()"
   ]
  },
  {
   "cell_type": "code",
   "execution_count": 5,
   "metadata": {},
   "outputs": [
    {
     "data": {
      "text/plain": [
       "netlibpp_cpy.Point_double"
      ]
     },
     "execution_count": 5,
     "metadata": {},
     "output_type": "execute_result"
    }
   ],
   "source": [
    "point = gf.Point(np.array([2, -3]).astype(np.float64))\n",
    "type(point)"
   ]
  },
  {
   "cell_type": "code",
   "execution_count": 6,
   "metadata": {},
   "outputs": [
    {
     "data": {
      "text/plain": [
       "[<netlibpp_cpy.Point_double at 0x715a193b2430>]"
      ]
     },
     "execution_count": 6,
     "metadata": {},
     "output_type": "execute_result"
    }
   ],
   "source": [
    "pr = simplex.projection(point)\n",
    "pr"
   ]
  },
  {
   "cell_type": "code",
   "execution_count": 7,
   "metadata": {},
   "outputs": [
    {
     "name": "stdout",
     "output_type": "stream",
     "text": [
      "[-1.846153846153846, -1.2307692307692308]\n"
     ]
    }
   ],
   "source": [
    "point = gf.Point(np.array([0, 0]).astype(np.float64))\n",
    "pr = simplex.projection(point)\n",
    "for i in pr:\n",
    "    print(i.coords())"
   ]
  },
  {
   "cell_type": "code",
   "execution_count": 8,
   "metadata": {},
   "outputs": [
    {
     "name": "stdout",
     "output_type": "stream",
     "text": [
      "[-1.846153846153846, -1.2307692307692308]\n"
     ]
    }
   ],
   "source": [
    "for i in pr:\n",
    "    print(i.coords())"
   ]
  }
 ],
 "metadata": {
  "kernelspec": {
   "display_name": "venv",
   "language": "python",
   "name": "python3"
  },
  "language_info": {
   "codemirror_mode": {
    "name": "ipython",
    "version": 3
   },
   "file_extension": ".py",
   "mimetype": "text/x-python",
   "name": "python",
   "nbconvert_exporter": "python",
   "pygments_lexer": "ipython3",
   "version": "3.12.7"
  }
 },
 "nbformat": 4,
 "nbformat_minor": 2
}
