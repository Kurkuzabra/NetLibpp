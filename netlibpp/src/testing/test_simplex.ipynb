{
 "cells": [
  {
   "cell_type": "code",
   "execution_count": null,
   "metadata": {},
   "outputs": [],
   "source": [
    "%matplotlib inline\n",
    "import matplotlib.pyplot as plt\n",
    "\n",
    "from scipy.spatial.distance import pdist, squareform\n",
    "from itertools import permutations, combinations\n",
    "from math import comb\n",
    "import numpy as np\n",
    "from timeit import default_timer as timer\n",
    "import sys\n",
    "sys.path.insert(0, '/home/kurk/curse/filtration/graph_func.cpython-312-x86_64-linux-gnu.so')\n",
    "\n",
    "import netlibpp_cpy as gf\n",
    "from timeit import default_timer as timer\n",
    "\n",
    "from sklearn.neighbors import radius_neighbors_graph\n",
    "import networkx as nx\n",
    "\n",
    "print(gf.__file__)\n",
    "print(gf.filtrate.__doc__)"
   ]
  },
  {
   "cell_type": "code",
   "execution_count": null,
   "metadata": {},
   "outputs": [],
   "source": [
    "sm = np.array([[-2, -1], [0, -4]]).astype(np.float64)\n",
    "print(sm, sm.shape, sm.dtype)"
   ]
  },
  {
   "cell_type": "code",
   "execution_count": null,
   "metadata": {},
   "outputs": [],
   "source": [
    "simplex = gf.Simplex(sm)\n",
    "print(type(simplex), simplex.dim())"
   ]
  },
  {
   "cell_type": "code",
   "execution_count": null,
   "metadata": {},
   "outputs": [],
   "source": [
    "point = gf.Point(np.array([2, -3]).astype(np.float64))\n",
    "type(point)"
   ]
  },
  {
   "cell_type": "code",
   "execution_count": null,
   "metadata": {},
   "outputs": [],
   "source": [
    "pr = simplex.projection(point)\n",
    "pr"
   ]
  },
  {
   "cell_type": "code",
   "execution_count": null,
   "metadata": {},
   "outputs": [],
   "source": [
    "point = gf.Point(np.array([0, 0]).astype(np.float64))\n",
    "pr = simplex.projection(point)\n",
    "for i in pr:\n",
    "    print(i.coords())"
   ]
  },
  {
   "cell_type": "code",
   "execution_count": null,
   "metadata": {},
   "outputs": [],
   "source": [
    "for i in pr:\n",
    "    print(i.coords())"
   ]
  }
 ],
 "metadata": {
  "kernelspec": {
   "display_name": "Python 3",
   "language": "python",
   "name": "python3"
  },
  "language_info": {
   "codemirror_mode": {
    "name": "ipython",
    "version": 3
   },
   "file_extension": ".py",
   "mimetype": "text/x-python",
   "name": "python",
   "nbconvert_exporter": "python",
   "pygments_lexer": "ipython3",
   "version": "3.12.7"
  }
 },
 "nbformat": 4,
 "nbformat_minor": 2
}
