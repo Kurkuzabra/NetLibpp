{
 "cells": [
  {
   "cell_type": "code",
   "execution_count": 8,
   "metadata": {},
   "outputs": [
    {
     "name": "stdout",
     "output_type": "stream",
     "text": [
      "/home/krakazabra/work/curse/NetLibpp/netlibpp/src/testing/graph_func.cpython-312-x86_64-linux-gnu.so\n",
      "filtrate(A: numpy.ndarray[numpy.float64], n: int, p: numpy.ndarray[numpy.float64], threads: int) -> numpy.ndarray[numpy.float64]\n",
      "\n",
      "filter complex\n",
      "\n"
     ]
    }
   ],
   "source": [
    "%matplotlib inline\n",
    "import matplotlib.pyplot as plt\n",
    "\n",
    "from scipy.spatial.distance import pdist, squareform\n",
    "from itertools import permutations, combinations\n",
    "from math import comb\n",
    "import numpy as np\n",
    "from timeit import default_timer as timer\n",
    "import sys\n",
    "sys.path.insert(0, '/home/kurk/curse/filtration/graph_func.cpython-312-x86_64-linux-gnu.so')\n",
    "\n",
    "import graph_func as gf\n",
    "from timeit import default_timer as timer\n",
    "\n",
    "from sklearn.neighbors import radius_neighbors_graph\n",
    "import networkx as nx\n",
    "\n",
    "print(gf.__file__)\n",
    "print(gf.filtrate.__doc__)"
   ]
  },
  {
   "cell_type": "code",
   "execution_count": 9,
   "metadata": {},
   "outputs": [
    {
     "name": "stdout",
     "output_type": "stream",
     "text": [
      "[[-2. -1.]\n",
      " [ 0. -4.]] (2, 2) float64\n"
     ]
    }
   ],
   "source": [
    "sm = np.array([[-2, -1], [0, -4]]).astype(np.float64)\n",
    "print(sm, sm.shape, sm.dtype)"
   ]
  },
  {
   "cell_type": "code",
   "execution_count": 10,
   "metadata": {},
   "outputs": [
    {
     "name": "stdout",
     "output_type": "stream",
     "text": [
      "<class 'graph_func.Simplex_hg::Point<double>double'> 1\n"
     ]
    }
   ],
   "source": [
    "simplex = gf.Simplex(sm)\n",
    "print(type(simplex), simplex.dim())"
   ]
  },
  {
   "cell_type": "code",
   "execution_count": 11,
   "metadata": {},
   "outputs": [
    {
     "data": {
      "text/plain": [
       "graph_func.Point_double"
      ]
     },
     "execution_count": 11,
     "metadata": {},
     "output_type": "execute_result"
    }
   ],
   "source": [
    "point = gf.Point(np.array([2, -3]).astype(np.float64))\n",
    "type(point)"
   ]
  },
  {
   "cell_type": "code",
   "execution_count": 12,
   "metadata": {},
   "outputs": [
    {
     "name": "stdout",
     "output_type": "stream",
     "text": [
      "A: \n",
      " 4.47214, 1.34164, \n",
      " 1.34164, 1.78885\n",
      "G^-1: \n",
      " 0.223607, -0.167705, \n",
      " 0, 0.559017\n"
     ]
    },
    {
     "data": {
      "text/plain": [
       "[<graph_func.Point_double at 0x79c0bc5d3df0>]"
      ]
     },
     "execution_count": 12,
     "metadata": {},
     "output_type": "execute_result"
    }
   ],
   "source": [
    "pr = simplex.projection(point)\n",
    "pr"
   ]
  },
  {
   "cell_type": "code",
   "execution_count": 13,
   "metadata": {},
   "outputs": [
    {
     "name": "stdout",
     "output_type": "stream",
     "text": [
      "[-1.846153846153846, -1.2307692307692308]\n",
      "A: \n",
      " 2.23607, 1.78885, \n",
      " 1.78885, 3.57771\n",
      "G^-1: \n",
      " 0.447214, -0.223607, \n",
      " 0, 0.279508\n"
     ]
    }
   ],
   "source": [
    "point = gf.Point(np.array([0, 0]).astype(np.float64))\n",
    "pr = simplex.projection(point)\n",
    "for i in pr:\n",
    "    print(i.coords())"
   ]
  },
  {
   "cell_type": "code",
   "execution_count": 14,
   "metadata": {},
   "outputs": [
    {
     "name": "stdout",
     "output_type": "stream",
     "text": [
      "[-1.846153846153846, -1.2307692307692308]\n"
     ]
    }
   ],
   "source": [
    "for i in pr:\n",
    "    print(i.coords())"
   ]
  }
 ],
 "metadata": {
  "kernelspec": {
   "display_name": "Python 3",
   "language": "python",
   "name": "python3"
  },
  "language_info": {
   "codemirror_mode": {
    "name": "ipython",
    "version": 3
   },
   "file_extension": ".py",
   "mimetype": "text/x-python",
   "name": "python",
   "nbconvert_exporter": "python",
   "pygments_lexer": "ipython3",
   "version": "3.12.7"
  }
 },
 "nbformat": 4,
 "nbformat_minor": 2
}
