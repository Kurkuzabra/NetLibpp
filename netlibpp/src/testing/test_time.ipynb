{
 "cells": [
  {
   "cell_type": "code",
   "execution_count": null,
   "metadata": {},
   "outputs": [
    {
     "name": "stdout",
     "output_type": "stream",
     "text": [
      "Alpha time for 100000 points: 2.256090688999393\n",
      "Vietoris-Rips time for 10000 points: 0.16121558399754576\n",
      "Delaunay-Rips time for 100000 points: 2.1468717609968735\n",
      "Lp time for 300 points: 2.9314370729989605\n"
     ]
    }
   ],
   "source": [
    "from scipy.spatial.distance import pdist, squareform\n",
    "from itertools import permutations, combinations\n",
    "from math import comb\n",
    "import numpy as np\n",
    "\n",
    "from sklearn.neighbors import radius_neighbors_graph\n",
    "import networkx as nx\n",
    "\n",
    "import sys\n",
    "\n",
    "import netlibpp_cpy as gf\n",
    "from timeit import default_timer as timer\n",
    "\n",
    "#X is normal with M=0, D=1\n",
    "\n",
    "#############################################\n",
    "n = 100000\n",
    "X = np.random.normal(size=(n, 2))\n",
    "start = timer()\n",
    "gf.get_Alpha_from_coord_matrix(X, 1.6)\n",
    "end = timer()\n",
    "print(\"Alpha time for {} points: {}\".format(n, end - start))\n",
    "#############################################\n",
    "#was taken very low amount of points because VR is designed to work with sparce graphs\n",
    "n = 10000\n",
    "X = np.random.normal(size=(n, 2))\n",
    "start = timer()\n",
    "gf.get_VR_from_coord_matrix(X, 0.01, 3)\n",
    "end = timer()\n",
    "print(\"Vietoris-Rips time for {} points: {}\".format(n, end - start))\n",
    "#############################################\n",
    "#delaunay triangulation generates sparse graph of any point cloud,\n",
    "# so it can be a lot faster in certain cases\n",
    "n = 100000\n",
    "X = np.random.normal(size=(n, 2))\n",
    "start = timer()\n",
    "gf.get_DelaunayRips_from_coord_matrix(X, 0.1)\n",
    "end = timer()\n",
    "print(\"Delaunay-Rips time for {} points: {}\".format(n, end - start))\n",
    "#############################################\n",
    "# due to exponential difficulty, lp complexes are appropriate to smaller hypergraphs\n",
    "n = 300\n",
    "X = np.random.normal(size=(n, 2))\n",
    "start = timer()\n",
    "gf.get_Lp_from_coord_matrix(X, 0.5, 3, 3)\n",
    "end = timer()\n",
    "print(\"Lp time for {} points: {}\".format(n, end - start))"
   ]
  }
 ],
 "metadata": {
  "kernelspec": {
   "display_name": "venv",
   "language": "python",
   "name": "python3"
  },
  "language_info": {
   "codemirror_mode": {
    "name": "ipython",
    "version": 3
   },
   "file_extension": ".py",
   "mimetype": "text/x-python",
   "name": "python",
   "nbconvert_exporter": "python",
   "pygments_lexer": "ipython3",
   "version": "3.12.7"
  }
 },
 "nbformat": 4,
 "nbformat_minor": 2
}
